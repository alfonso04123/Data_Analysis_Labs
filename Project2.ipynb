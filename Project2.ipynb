{
 "cells": [
  {
   "cell_type": "markdown",
   "id": "5dfd318a-0fad-4dab-ac4b-6ccf13c6fe4b",
   "metadata": {
    "ExecuteTime": {
     "end_time": "2024-12-07T17:00:10.869623Z",
     "start_time": "2024-12-07T17:00:10.865882Z"
    },
    "collapsed": true,
    "jupyter": {
     "outputs_hidden": true
    }
   },
   "source": [
    "# EU Tech Salary Analysis"
   ]
  },
  {
   "cell_type": "markdown",
   "id": "53b0dcce-a144-4477-a3be-6900b58b86b0",
   "metadata": {},
   "source": [
    "As we know, all around the world, tech company always can offer a great salary package, especially in US. As an important region in the world, with many developed countries, what is the salary in tech companies in EU? We will look deep into it."
   ]
  },
  {
   "cell_type": "markdown",
   "id": "4d651e65e95a037",
   "metadata": {},
   "source": [
    "First, we will import some useful package for our analysis."
   ]
  },
  {
   "cell_type": "code",
   "execution_count": 1,
   "id": "fb2aec47746b12e0",
   "metadata": {
    "ExecuteTime": {
     "end_time": "2024-12-07T22:06:14.605244Z",
     "start_time": "2024-12-07T22:06:13.962136Z"
    },
    "execution": {
     "iopub.execute_input": "2024-12-07T22:10:07.527047Z",
     "iopub.status.busy": "2024-12-07T22:10:07.526599Z",
     "iopub.status.idle": "2024-12-07T22:10:08.009350Z",
     "shell.execute_reply": "2024-12-07T22:10:08.009112Z",
     "shell.execute_reply.started": "2024-12-07T22:10:07.527022Z"
    }
   },
   "outputs": [],
   "source": [
    "from itertools import groupby\n",
    "\n",
    "import numpy as np\n",
    "import pandas as pd\n",
    "from pandas import DataFrame, Series\n",
    "import matplotlib.pyplot as plt"
   ]
  },
  {
   "cell_type": "markdown",
   "id": "7824c26b1546f567",
   "metadata": {},
   "source": [
    "Then we import the file that we use for our analysis, and open it as DataFrame, easy for future analysis"
   ]
  },
  {
   "cell_type": "code",
   "execution_count": 2,
   "id": "3e5bd0b88b6bacb0",
   "metadata": {
    "ExecuteTime": {
     "end_time": "2024-12-07T22:06:14.641894Z",
     "start_time": "2024-12-07T22:06:14.619167Z"
    },
    "execution": {
     "iopub.execute_input": "2024-12-07T22:10:25.527260Z",
     "iopub.status.busy": "2024-12-07T22:10:25.526750Z",
     "iopub.status.idle": "2024-12-07T22:10:25.552937Z",
     "shell.execute_reply": "2024-12-07T22:10:25.552595Z",
     "shell.execute_reply.started": "2024-12-07T22:10:25.527226Z"
    }
   },
   "outputs": [
    {
     "data": {
      "text/html": [
       "<div>\n",
       "<style scoped>\n",
       "    .dataframe tbody tr th:only-of-type {\n",
       "        vertical-align: middle;\n",
       "    }\n",
       "\n",
       "    .dataframe tbody tr th {\n",
       "        vertical-align: top;\n",
       "    }\n",
       "\n",
       "    .dataframe thead th {\n",
       "        text-align: right;\n",
       "    }\n",
       "</style>\n",
       "<table border=\"1\" class=\"dataframe\">\n",
       "  <thead>\n",
       "    <tr style=\"text-align: right;\">\n",
       "      <th></th>\n",
       "      <th>Timestamp</th>\n",
       "      <th>Age</th>\n",
       "      <th>Gender</th>\n",
       "      <th>City</th>\n",
       "      <th>Position</th>\n",
       "      <th>Total years of experience</th>\n",
       "      <th>Years of experience in Germany</th>\n",
       "      <th>Seniority level</th>\n",
       "      <th>Your main technology / programming language</th>\n",
       "      <th>Other technologies/programming languages you use often</th>\n",
       "      <th>...</th>\n",
       "      <th>Annual bonus+stocks one year ago. Only answer if staying in same country</th>\n",
       "      <th>Number of vacation days</th>\n",
       "      <th>Employment status</th>\n",
       "      <th>Сontract duration</th>\n",
       "      <th>Main language at work</th>\n",
       "      <th>Company size</th>\n",
       "      <th>Company type</th>\n",
       "      <th>Have you lost your job due to the coronavirus outbreak?</th>\n",
       "      <th>Have you been forced to have a shorter working week (Kurzarbeit)? If yes, how many hours per week</th>\n",
       "      <th>Have you received additional monetary support from your employer due to Work From Home? If yes, how much in 2020 in EUR</th>\n",
       "    </tr>\n",
       "  </thead>\n",
       "  <tbody>\n",
       "    <tr>\n",
       "      <th>0</th>\n",
       "      <td>24/11/2020 11:14:15</td>\n",
       "      <td>26.0</td>\n",
       "      <td>Male</td>\n",
       "      <td>Munich</td>\n",
       "      <td>Software Engineer</td>\n",
       "      <td>5</td>\n",
       "      <td>3</td>\n",
       "      <td>Senior</td>\n",
       "      <td>TypeScript</td>\n",
       "      <td>Kotlin, Javascript / Typescript</td>\n",
       "      <td>...</td>\n",
       "      <td>10000</td>\n",
       "      <td>30</td>\n",
       "      <td>Full-time employee</td>\n",
       "      <td>Unlimited contract</td>\n",
       "      <td>English</td>\n",
       "      <td>51-100</td>\n",
       "      <td>Product</td>\n",
       "      <td>No</td>\n",
       "      <td>NaN</td>\n",
       "      <td>NaN</td>\n",
       "    </tr>\n",
       "    <tr>\n",
       "      <th>1</th>\n",
       "      <td>24/11/2020 11:14:16</td>\n",
       "      <td>26.0</td>\n",
       "      <td>Male</td>\n",
       "      <td>Berlin</td>\n",
       "      <td>Backend Developer</td>\n",
       "      <td>7</td>\n",
       "      <td>4</td>\n",
       "      <td>Senior</td>\n",
       "      <td>Ruby</td>\n",
       "      <td>NaN</td>\n",
       "      <td>...</td>\n",
       "      <td>5000</td>\n",
       "      <td>28</td>\n",
       "      <td>Full-time employee</td>\n",
       "      <td>Unlimited contract</td>\n",
       "      <td>English</td>\n",
       "      <td>101-1000</td>\n",
       "      <td>Product</td>\n",
       "      <td>No</td>\n",
       "      <td>NaN</td>\n",
       "      <td>NaN</td>\n",
       "    </tr>\n",
       "    <tr>\n",
       "      <th>2</th>\n",
       "      <td>24/11/2020 11:14:21</td>\n",
       "      <td>29.0</td>\n",
       "      <td>Male</td>\n",
       "      <td>Berlin</td>\n",
       "      <td>Software Engineer</td>\n",
       "      <td>12</td>\n",
       "      <td>6</td>\n",
       "      <td>Lead</td>\n",
       "      <td>Javascript / Typescript</td>\n",
       "      <td>Javascript / Typescript, Docker</td>\n",
       "      <td>...</td>\n",
       "      <td>100000</td>\n",
       "      <td>30</td>\n",
       "      <td>Self-employed (freelancer)</td>\n",
       "      <td>Temporary contract</td>\n",
       "      <td>English</td>\n",
       "      <td>101-1000</td>\n",
       "      <td>Product</td>\n",
       "      <td>Yes</td>\n",
       "      <td>NaN</td>\n",
       "      <td>NaN</td>\n",
       "    </tr>\n",
       "    <tr>\n",
       "      <th>3</th>\n",
       "      <td>24/11/2020 11:15:24</td>\n",
       "      <td>28.0</td>\n",
       "      <td>Male</td>\n",
       "      <td>Berlin</td>\n",
       "      <td>Frontend Developer</td>\n",
       "      <td>4</td>\n",
       "      <td>1</td>\n",
       "      <td>Junior</td>\n",
       "      <td>Javascript</td>\n",
       "      <td>NaN</td>\n",
       "      <td>...</td>\n",
       "      <td>NaN</td>\n",
       "      <td>24</td>\n",
       "      <td>Full-time employee</td>\n",
       "      <td>Unlimited contract</td>\n",
       "      <td>English</td>\n",
       "      <td>51-100</td>\n",
       "      <td>Startup</td>\n",
       "      <td>No</td>\n",
       "      <td>NaN</td>\n",
       "      <td>NaN</td>\n",
       "    </tr>\n",
       "    <tr>\n",
       "      <th>4</th>\n",
       "      <td>24/11/2020 11:15:46</td>\n",
       "      <td>37.0</td>\n",
       "      <td>Male</td>\n",
       "      <td>Berlin</td>\n",
       "      <td>Backend Developer</td>\n",
       "      <td>17</td>\n",
       "      <td>6</td>\n",
       "      <td>Senior</td>\n",
       "      <td>C# .NET</td>\n",
       "      <td>.NET, SQL, AWS, Docker</td>\n",
       "      <td>...</td>\n",
       "      <td>NaN</td>\n",
       "      <td>29</td>\n",
       "      <td>Full-time employee</td>\n",
       "      <td>Unlimited contract</td>\n",
       "      <td>English</td>\n",
       "      <td>101-1000</td>\n",
       "      <td>Product</td>\n",
       "      <td>No</td>\n",
       "      <td>NaN</td>\n",
       "      <td>NaN</td>\n",
       "    </tr>\n",
       "    <tr>\n",
       "      <th>...</th>\n",
       "      <td>...</td>\n",
       "      <td>...</td>\n",
       "      <td>...</td>\n",
       "      <td>...</td>\n",
       "      <td>...</td>\n",
       "      <td>...</td>\n",
       "      <td>...</td>\n",
       "      <td>...</td>\n",
       "      <td>...</td>\n",
       "      <td>...</td>\n",
       "      <td>...</td>\n",
       "      <td>...</td>\n",
       "      <td>...</td>\n",
       "      <td>...</td>\n",
       "      <td>...</td>\n",
       "      <td>...</td>\n",
       "      <td>...</td>\n",
       "      <td>...</td>\n",
       "      <td>...</td>\n",
       "      <td>...</td>\n",
       "      <td>...</td>\n",
       "    </tr>\n",
       "    <tr>\n",
       "      <th>1248</th>\n",
       "      <td>18/01/2021 15:05:50</td>\n",
       "      <td>31.0</td>\n",
       "      <td>Male</td>\n",
       "      <td>Berlin</td>\n",
       "      <td>Backend Developer</td>\n",
       "      <td>9</td>\n",
       "      <td>5</td>\n",
       "      <td>Senior</td>\n",
       "      <td>Java</td>\n",
       "      <td>Python, Javascript / Typescript, Java / Scala,...</td>\n",
       "      <td>...</td>\n",
       "      <td>72000</td>\n",
       "      <td>26</td>\n",
       "      <td>Full-time employee</td>\n",
       "      <td>Unlimited contract</td>\n",
       "      <td>English</td>\n",
       "      <td>51-100</td>\n",
       "      <td>Product</td>\n",
       "      <td>Yes</td>\n",
       "      <td>NaN</td>\n",
       "      <td>NaN</td>\n",
       "    </tr>\n",
       "    <tr>\n",
       "      <th>1249</th>\n",
       "      <td>18/01/2021 17:46:02</td>\n",
       "      <td>33.0</td>\n",
       "      <td>Male</td>\n",
       "      <td>Berlin</td>\n",
       "      <td>Researcher/ Consumer Insights Analyst</td>\n",
       "      <td>10</td>\n",
       "      <td>1.5</td>\n",
       "      <td>Senior</td>\n",
       "      <td>consumer analysis</td>\n",
       "      <td>NaN</td>\n",
       "      <td>...</td>\n",
       "      <td>2500</td>\n",
       "      <td>unlimited</td>\n",
       "      <td>Full-time employee</td>\n",
       "      <td>Unlimited contract</td>\n",
       "      <td>English</td>\n",
       "      <td>1000+</td>\n",
       "      <td>Product</td>\n",
       "      <td>No</td>\n",
       "      <td>NaN</td>\n",
       "      <td>0</td>\n",
       "    </tr>\n",
       "    <tr>\n",
       "      <th>1250</th>\n",
       "      <td>18/01/2021 23:20:35</td>\n",
       "      <td>39.0</td>\n",
       "      <td>Male</td>\n",
       "      <td>Munich</td>\n",
       "      <td>IT Operations Manager</td>\n",
       "      <td>15</td>\n",
       "      <td>2</td>\n",
       "      <td>Lead</td>\n",
       "      <td>PHP</td>\n",
       "      <td>Python, C/C++, Javascript / Typescript, Java /...</td>\n",
       "      <td>...</td>\n",
       "      <td>NaN</td>\n",
       "      <td>28</td>\n",
       "      <td>Full-time employee</td>\n",
       "      <td>Unlimited contract</td>\n",
       "      <td>English</td>\n",
       "      <td>101-1000</td>\n",
       "      <td>eCommerce</td>\n",
       "      <td>No</td>\n",
       "      <td>NaN</td>\n",
       "      <td>NaN</td>\n",
       "    </tr>\n",
       "    <tr>\n",
       "      <th>1251</th>\n",
       "      <td>19/01/2021 10:17:58</td>\n",
       "      <td>26.0</td>\n",
       "      <td>Male</td>\n",
       "      <td>Saarbrücken</td>\n",
       "      <td>Frontend Developer</td>\n",
       "      <td>7</td>\n",
       "      <td>7</td>\n",
       "      <td>Middle</td>\n",
       "      <td>JavaScript</td>\n",
       "      <td>Javascript / Typescript, Docker, HTML, CSS; Ad...</td>\n",
       "      <td>...</td>\n",
       "      <td>36400</td>\n",
       "      <td>27</td>\n",
       "      <td>Full-time employee</td>\n",
       "      <td>Unlimited contract</td>\n",
       "      <td>German</td>\n",
       "      <td>101-1000</td>\n",
       "      <td>Product</td>\n",
       "      <td>No</td>\n",
       "      <td>NaN</td>\n",
       "      <td>0</td>\n",
       "    </tr>\n",
       "    <tr>\n",
       "      <th>1252</th>\n",
       "      <td>19/01/2021 12:01:11</td>\n",
       "      <td>26.0</td>\n",
       "      <td>Male</td>\n",
       "      <td>Berlin</td>\n",
       "      <td>DevOps</td>\n",
       "      <td>2</td>\n",
       "      <td>2</td>\n",
       "      <td>Middle</td>\n",
       "      <td>yaml</td>\n",
       "      <td>Python, AWS, Kubernetes, Docker, terraform, an...</td>\n",
       "      <td>...</td>\n",
       "      <td>0</td>\n",
       "      <td>30</td>\n",
       "      <td>Full-time employee</td>\n",
       "      <td>Unlimited contract</td>\n",
       "      <td>English</td>\n",
       "      <td>51-100</td>\n",
       "      <td>Startup</td>\n",
       "      <td>No</td>\n",
       "      <td>30.0</td>\n",
       "      <td>600</td>\n",
       "    </tr>\n",
       "  </tbody>\n",
       "</table>\n",
       "<p>1253 rows × 23 columns</p>\n",
       "</div>"
      ],
      "text/plain": [
       "                Timestamp   Age Gender         City  \\\n",
       "0     24/11/2020 11:14:15  26.0   Male       Munich   \n",
       "1     24/11/2020 11:14:16  26.0   Male       Berlin   \n",
       "2     24/11/2020 11:14:21  29.0   Male       Berlin   \n",
       "3     24/11/2020 11:15:24  28.0   Male       Berlin   \n",
       "4     24/11/2020 11:15:46  37.0   Male       Berlin   \n",
       "...                   ...   ...    ...          ...   \n",
       "1248  18/01/2021 15:05:50  31.0   Male       Berlin   \n",
       "1249  18/01/2021 17:46:02  33.0   Male       Berlin   \n",
       "1250  18/01/2021 23:20:35  39.0   Male       Munich   \n",
       "1251  19/01/2021 10:17:58  26.0   Male  Saarbrücken   \n",
       "1252  19/01/2021 12:01:11  26.0   Male       Berlin   \n",
       "\n",
       "                                    Position Total years of experience  \\\n",
       "0                          Software Engineer                         5   \n",
       "1                          Backend Developer                         7   \n",
       "2                          Software Engineer                        12   \n",
       "3                         Frontend Developer                         4   \n",
       "4                          Backend Developer                        17   \n",
       "...                                      ...                       ...   \n",
       "1248                       Backend Developer                         9   \n",
       "1249  Researcher/ Consumer Insights Analyst                         10   \n",
       "1250                   IT Operations Manager                        15   \n",
       "1251                      Frontend Developer                         7   \n",
       "1252                                  DevOps                         2   \n",
       "\n",
       "     Years of experience in Germany Seniority level  \\\n",
       "0                                 3          Senior   \n",
       "1                                 4          Senior   \n",
       "2                                 6            Lead   \n",
       "3                                 1          Junior   \n",
       "4                                 6          Senior   \n",
       "...                             ...             ...   \n",
       "1248                              5          Senior   \n",
       "1249                            1.5          Senior   \n",
       "1250                              2            Lead   \n",
       "1251                              7          Middle   \n",
       "1252                              2          Middle   \n",
       "\n",
       "     Your main technology / programming language  \\\n",
       "0                                     TypeScript   \n",
       "1                                           Ruby   \n",
       "2                        Javascript / Typescript   \n",
       "3                                     Javascript   \n",
       "4                                        C# .NET   \n",
       "...                                          ...   \n",
       "1248                                        Java   \n",
       "1249                           consumer analysis   \n",
       "1250                                         PHP   \n",
       "1251                                  JavaScript   \n",
       "1252                                        yaml   \n",
       "\n",
       "     Other technologies/programming languages you use often  ...  \\\n",
       "0                       Kotlin, Javascript / Typescript      ...   \n",
       "1                                                   NaN      ...   \n",
       "2                       Javascript / Typescript, Docker      ...   \n",
       "3                                                   NaN      ...   \n",
       "4                                .NET, SQL, AWS, Docker      ...   \n",
       "...                                                 ...      ...   \n",
       "1248  Python, Javascript / Typescript, Java / Scala,...      ...   \n",
       "1249                                                NaN      ...   \n",
       "1250  Python, C/C++, Javascript / Typescript, Java /...      ...   \n",
       "1251  Javascript / Typescript, Docker, HTML, CSS; Ad...      ...   \n",
       "1252  Python, AWS, Kubernetes, Docker, terraform, an...      ...   \n",
       "\n",
       "      Annual bonus+stocks one year ago. Only answer if staying in same country  \\\n",
       "0                                                 10000                          \n",
       "1                                                  5000                          \n",
       "2                                                100000                          \n",
       "3                                                   NaN                          \n",
       "4                                                   NaN                          \n",
       "...                                                 ...                          \n",
       "1248                                              72000                          \n",
       "1249                                               2500                          \n",
       "1250                                                NaN                          \n",
       "1251                                              36400                          \n",
       "1252                                                  0                          \n",
       "\n",
       "     Number of vacation days           Employment status   Сontract duration  \\\n",
       "0                         30          Full-time employee  Unlimited contract   \n",
       "1                         28          Full-time employee  Unlimited contract   \n",
       "2                         30  Self-employed (freelancer)  Temporary contract   \n",
       "3                         24          Full-time employee  Unlimited contract   \n",
       "4                         29          Full-time employee  Unlimited contract   \n",
       "...                      ...                         ...                 ...   \n",
       "1248                      26          Full-time employee  Unlimited contract   \n",
       "1249              unlimited           Full-time employee  Unlimited contract   \n",
       "1250                      28          Full-time employee  Unlimited contract   \n",
       "1251                      27          Full-time employee  Unlimited contract   \n",
       "1252                      30          Full-time employee  Unlimited contract   \n",
       "\n",
       "     Main language at work Company size Company type  \\\n",
       "0                  English       51-100      Product   \n",
       "1                  English     101-1000      Product   \n",
       "2                  English     101-1000      Product   \n",
       "3                  English       51-100      Startup   \n",
       "4                  English     101-1000      Product   \n",
       "...                    ...          ...          ...   \n",
       "1248               English       51-100      Product   \n",
       "1249               English        1000+      Product   \n",
       "1250               English     101-1000    eCommerce   \n",
       "1251                German     101-1000      Product   \n",
       "1252               English       51-100      Startup   \n",
       "\n",
       "     Have you lost your job due to the coronavirus outbreak?  \\\n",
       "0                                                    No        \n",
       "1                                                    No        \n",
       "2                                                   Yes        \n",
       "3                                                    No        \n",
       "4                                                    No        \n",
       "...                                                 ...        \n",
       "1248                                                Yes        \n",
       "1249                                                 No        \n",
       "1250                                                 No        \n",
       "1251                                                 No        \n",
       "1252                                                 No        \n",
       "\n",
       "     Have you been forced to have a shorter working week (Kurzarbeit)? If yes, how many hours per week  \\\n",
       "0                                                   NaN                                                  \n",
       "1                                                   NaN                                                  \n",
       "2                                                   NaN                                                  \n",
       "3                                                   NaN                                                  \n",
       "4                                                   NaN                                                  \n",
       "...                                                 ...                                                  \n",
       "1248                                                NaN                                                  \n",
       "1249                                                NaN                                                  \n",
       "1250                                                NaN                                                  \n",
       "1251                                                NaN                                                  \n",
       "1252                                               30.0                                                  \n",
       "\n",
       "     Have you received additional monetary support from your employer due to Work From Home? If yes, how much in 2020 in EUR  \n",
       "0                                                   NaN                                                                       \n",
       "1                                                   NaN                                                                       \n",
       "2                                                   NaN                                                                       \n",
       "3                                                   NaN                                                                       \n",
       "4                                                   NaN                                                                       \n",
       "...                                                 ...                                                                       \n",
       "1248                                                NaN                                                                       \n",
       "1249                                                  0                                                                       \n",
       "1250                                                NaN                                                                       \n",
       "1251                                                  0                                                                       \n",
       "1252                                                600                                                                       \n",
       "\n",
       "[1253 rows x 23 columns]"
      ]
     },
     "execution_count": 2,
     "metadata": {},
     "output_type": "execute_result"
    }
   ],
   "source": [
    "path = \"/Users/alfonsoqu/Desktop/ASU/2024Fall/DAT301/Project2/ITSalarySurveyEU2020.csv\"\n",
    "df = pd.read_csv(path)\n",
    "df.columns = df.columns.str.strip()\n",
    "df"
   ]
  },
  {
   "cell_type": "markdown",
   "id": "1e765d3fa44a045e",
   "metadata": {},
   "source": [
    "My first attraction is age, I am wondering what is range of age that people working in EU. I decided to use a histogram plot to have a clear view"
   ]
  },
  {
   "cell_type": "code",
   "execution_count": 5,
   "id": "74353f0995a9798b",
   "metadata": {
    "ExecuteTime": {
     "end_time": "2024-12-07T22:06:14.881785Z",
     "start_time": "2024-12-07T22:06:14.797586Z"
    },
    "execution": {
     "iopub.execute_input": "2024-12-07T22:11:01.822983Z",
     "iopub.status.busy": "2024-12-07T22:11:01.822462Z",
     "iopub.status.idle": "2024-12-07T22:11:01.896587Z",
     "shell.execute_reply": "2024-12-07T22:11:01.896279Z",
     "shell.execute_reply.started": "2024-12-07T22:11:01.822950Z"
    }
   },
   "outputs": [
    {
     "data": {
      "text/plain": [
       "(array([ 50., 332., 459., 262.,  83.,  28.,   6.,   3.,   0.,   3.]),\n",
       " array([20. , 24.9, 29.8, 34.7, 39.6, 44.5, 49.4, 54.3, 59.2, 64.1, 69. ]),\n",
       " <BarContainer object of 10 artists>)"
      ]
     },
     "execution_count": 5,
     "metadata": {},
     "output_type": "execute_result"
    },
    {
     "data": {
      "image/png": "[encoded data removed]",
      "text/plain": [
       "<Figure size 640x480 with 1 Axes>"
      ]
     },
     "metadata": {},
     "output_type": "display_data"
    }
   ],
   "source": [
    "age = df['Age']\n",
    "plt.hist(age, edgecolor='black')"
   ]
  },
  {
   "cell_type": "markdown",
   "id": "89a8410eea6983e2",
   "metadata": {},
   "source": [
    "As we can see in this plot, most people in EU working in Tech companies are around 25 to 40 years."
   ]
  },
  {
   "cell_type": "markdown",
   "id": "321c0a98e435c14d",
   "metadata": {},
   "source": [
    "There are many countries in EU, since this data frame is about Tech company, which country or city has the most tech position? Let's find out"
   ]
  },
  {
   "cell_type": "code",
   "execution_count": 4,
   "id": "b9982458402a0a1a",
   "metadata": {
    "ExecuteTime": {
     "end_time": "2024-12-07T22:06:14.969747Z",
     "start_time": "2024-12-07T22:06:14.964139Z"
    }
   },
   "outputs": [
    {
     "data": {
      "text/plain": [
       "City\n",
       "Berlin         681\n",
       "Munich         236\n",
       "Frankfurt       44\n",
       "Hamburg         40\n",
       "Stuttgart       26\n",
       "              ... \n",
       "Nuremberg        1\n",
       "Lübeck           1\n",
       "Malta            1\n",
       "Dresden          1\n",
       "Saarbrücken      1\n",
       "Name: count, Length: 119, dtype: int64"
      ]
     },
     "execution_count": 4,
     "metadata": {},
     "output_type": "execute_result"
    }
   ],
   "source": [
    "city = df['City']\n",
    "city.value_counts()"
   ]
  },
  {
   "cell_type": "markdown",
   "id": "c3d339cd1e0152e9",
   "metadata": {},
   "source": [
    "Perhaps this report mainly interviewed people in Germany, but it truly shows in Germany, it has the most tech companies, especially in Berlin."
   ]
  },
  {
   "cell_type": "markdown",
   "id": "946703e903360560",
   "metadata": {},
   "source": [
    "Then we want to know what area exactly they are working on. We will use the same strategy to find out."
   ]
  },
  {
   "cell_type": "code",
   "execution_count": 5,
   "id": "a47285e4f96fdc9",
   "metadata": {
    "ExecuteTime": {
     "end_time": "2024-12-07T22:06:15.079345Z",
     "start_time": "2024-12-07T22:06:15.074849Z"
    }
   },
   "outputs": [
    {
     "data": {
      "text/plain": [
       "Position\n",
       "Software Engineer            387\n",
       "Backend Developer            174\n",
       "Data Scientist               110\n",
       "Frontend Developer            89\n",
       "QA Engineer                   71\n",
       "                            ... \n",
       "Testautomation                 1\n",
       "Recruiter                      1\n",
       "DBA                            1\n",
       "DB developer/Data analyst      1\n",
       "IT Operations Manager          1\n",
       "Name: count, Length: 148, dtype: int64"
      ]
     },
     "execution_count": 5,
     "metadata": {},
     "output_type": "execute_result"
    }
   ],
   "source": [
    "pos=df['Position']\n",
    "pos.value_counts()"
   ]
  },
  {
   "cell_type": "markdown",
   "id": "bd5fe4739363a90a",
   "metadata": {},
   "source": [
    "Software Engineer has the largest amount, following by Backend and Developer."
   ]
  },
  {
   "cell_type": "markdown",
   "id": "bc3151a5939d9038",
   "metadata": {},
   "source": [
    "But I am curious how many years these SDE have been working? I will use a plot to find out the answer."
   ]
  },
  {
   "cell_type": "code",
   "execution_count": 6,
   "id": "2431cf471dfbb2f5",
   "metadata": {
    "ExecuteTime": {
     "end_time": "2024-12-07T22:06:15.325663Z",
     "start_time": "2024-12-07T22:06:15.261050Z"
    }
   },
   "outputs": [
    {
     "data": {
      "image/png": "[encoded data removed]",
      "text/plain": [
       "<Figure size 800x600 with 1 Axes>"
      ]
     },
     "metadata": {},
     "output_type": "display_data"
    }
   ],
   "source": [
    "# Filter only rows where Position is 'Software Engineer'\n",
    "software_engineers = df.loc[df['Position'] == 'Software Engineer'].copy()\n",
    "\n",
    "# Handle the parsing issue by replacing commas with dots and converting to numeric\n",
    "software_engineers['Total years of experience'] = software_engineers['Total years of experience'].replace(',', '.', regex=True)\n",
    "software_engineers['Total years of experience'] = pd.to_numeric(\n",
    "    software_engineers['Total years of experience'], errors='coerce'\n",
    ")\n",
    "\n",
    "# Define bins and labels for categorization\n",
    "bins = [0, 3, 5, 10, float('inf')]\n",
    "labels = ['0-3', '3-5', '5-10', '10+']\n",
    "\n",
    "# Categorize years of experience into defined bins\n",
    "software_engineers.loc[:, 'Experience Range'] = pd.cut(\n",
    "    software_engineers['Total years of experience'], bins=bins, labels=labels, right=False\n",
    ")\n",
    "\n",
    "# Count occurrences by experience range\n",
    "experience_counts = software_engineers['Experience Range'].value_counts().sort_index()\n",
    "\n",
    "# Plot the results\n",
    "plt.figure(figsize=(8, 6))\n",
    "experience_counts.plot(kind='bar', color='skyblue')\n",
    "plt.title('Software Engineer Experience Ranges')\n",
    "plt.xlabel('Experience Range (Years)')\n",
    "plt.ylabel('Number of Engineers')\n",
    "plt.xticks(rotation=45)\n",
    "plt.grid(axis='y', linestyle='--', alpha=0.7)\n",
    "plt.show()"
   ]
  },
  {
   "cell_type": "markdown",
   "id": "e936ee9973c28f03",
   "metadata": {},
   "source": [
    "Speaking about Tech jobs, most of them need to do programming, we want to analysis what is the programming they are use for work."
   ]
  },
  {
   "cell_type": "code",
   "execution_count": 7,
   "id": "878c8cc36b3fe790",
   "metadata": {
    "ExecuteTime": {
     "end_time": "2024-12-07T22:06:15.389269Z",
     "start_time": "2024-12-07T22:06:15.383874Z"
    }
   },
   "outputs": [
    {
     "data": {
      "text/plain": [
       "Your main technology / programming language\n",
       "python                    212\n",
       "java                      196\n",
       "javascript                 80\n",
       "php                        71\n",
       "c++                        41\n",
       "                         ... \n",
       ".net, angular               1\n",
       "atlassian jira              1\n",
       "qlik                        1\n",
       "kuberenetes, openstack      1\n",
       "consumer analysis           1\n",
       "Name: count, Length: 208, dtype: int64"
      ]
     },
     "execution_count": 7,
     "metadata": {},
     "output_type": "execute_result"
    }
   ],
   "source": [
    "# Normalize the data by converting to lowercase and stripping spaces\n",
    "df['Your main technology / programming language'] = df['Your main technology / programming language'].str.lower().str.strip()\n",
    "\n",
    "# Recount occurrences\n",
    "normalized_technology_counts = df['Your main technology / programming language'].value_counts().sort_values(ascending=False)\n",
    "\n",
    "normalized_technology_counts"
   ]
  },
  {
   "cell_type": "markdown",
   "id": "8be6b06287430d15",
   "metadata": {},
   "source": [
    "Finally we step to salary, because most of employee in this data set are SDE, I want to find out which position have the most income."
   ]
  },
  {
   "cell_type": "code",
   "execution_count": 6,
   "id": "5abc96069036796c",
   "metadata": {
    "ExecuteTime": {
     "end_time": "2024-12-07T22:06:15.529796Z",
     "start_time": "2024-12-07T22:06:15.442980Z"
    },
    "execution": {
     "iopub.execute_input": "2024-12-07T22:11:16.274577Z",
     "iopub.status.busy": "2024-12-07T22:11:16.274024Z",
     "iopub.status.idle": "2024-12-07T22:11:16.385420Z",
     "shell.execute_reply": "2024-12-07T22:11:16.384952Z",
     "shell.execute_reply.started": "2024-12-07T22:11:16.274537Z"
    }
   },
   "outputs": [
    {
     "data": {
      "image/png": "[encoded data removed]",
      "text/plain": [
       "<Figure size 1200x800 with 1 Axes>"
      ]
     },
     "metadata": {},
     "output_type": "display_data"
    }
   ],
   "source": [
    "filtered_df = df[df['Yearly brutto salary (without bonus and stocks) in EUR'] < 300000]\n",
    "\n",
    "# Recalculate average salary by position\n",
    "filtered_salary_by_position = filtered_df.groupby('Position')['Yearly brutto salary (without bonus and stocks) in EUR'].mean().sort_values(ascending=False)\n",
    "\n",
    "# Plot the results\n",
    "plt.figure(figsize=(12, 8))\n",
    "filtered_salary_by_position.head(10).plot(kind='bar', color='aqua')\n",
    "plt.title('Top 10 Positions by Average Yearly Brutto Salary (EUR)')\n",
    "plt.xlabel('Position')\n",
    "plt.ylabel('Average Salary (EUR)')\n",
    "plt.xticks(rotation=45, ha='right')\n",
    "plt.grid(axis='y', linestyle='--', alpha=0.7)\n",
    "plt.show()"
   ]
  },
  {
   "cell_type": "markdown",
   "id": "979245d981c9ac13",
   "metadata": {},
   "source": [
    "Looks like SDE is not the position with most income in Top 10. The most income position are management positions and architect(cloud, software). It make sense because these positions does need more experiences and knowledge."
   ]
  },
  {
   "cell_type": "markdown",
   "id": "197726bdbfc46f31",
   "metadata": {},
   "source": [
    "I am wondering which city and which position has the highes payment."
   ]
  },
  {
   "cell_type": "code",
   "execution_count": 9,
   "id": "5e983cd72c8e9512",
   "metadata": {
    "ExecuteTime": {
     "end_time": "2024-12-07T22:06:15.557936Z",
     "start_time": "2024-12-07T22:06:15.551217Z"
    }
   },
   "outputs": [
    {
     "name": "stdout",
     "output_type": "stream",
     "text": [
      "Position with the highest salary: ML Engineer\n",
      "Location: Cologne\n",
      "Yearly Brutto Salary: €250,025,500.00\n"
     ]
    }
   ],
   "source": [
    "# Convert the salary column to numeric by removing commas and handling errors\n",
    "df['Yearly brutto salary (without bonus and stocks) in EUR'] = df['Yearly brutto salary (without bonus and stocks) in EUR'].replace(',', '', regex=True).astype(float)\n",
    "\n",
    "# Group by Position and City, then calculate the average salary\n",
    "salary_by_position_location = df.groupby(['Position', 'City'])['Yearly brutto salary (without bonus and stocks) in EUR'].mean().reset_index()\n",
    "\n",
    "# Sort the results by average salary in descending order\n",
    "salary_by_position_location_sorted = salary_by_position_location.sort_values(\n",
    "    by='Yearly brutto salary (without bonus and stocks) in EUR', ascending=False\n",
    ")\n",
    "\n",
    "# Find the position with the highest salary and its location\n",
    "highest_salary_row = salary_by_position_location_sorted.iloc[0]\n",
    "\n",
    "# Extract the relevant information\n",
    "highest_paid_position = highest_salary_row['Position']\n",
    "highest_paid_city = highest_salary_row['City']\n",
    "highest_paid_salary = highest_salary_row['Yearly brutto salary (without bonus and stocks) in EUR']\n",
    "\n",
    "# Display the results\n",
    "print(f\"Position with the highest salary: {highest_paid_position}\")\n",
    "print(f\"Location: {highest_paid_city}\")\n",
    "print(f\"Yearly Brutto Salary: €{highest_paid_salary:,.2f}\")"
   ]
  },
  {
   "cell_type": "markdown",
   "id": "72b0b544dd23b5a8",
   "metadata": {},
   "source": [
    "Looks like this salary is an outlier, Let's take it out and do this again"
   ]
  },
  {
   "cell_type": "code",
   "execution_count": 10,
   "id": "28298170df8e94b1",
   "metadata": {
    "ExecuteTime": {
     "end_time": "2024-12-07T22:06:15.607437Z",
     "start_time": "2024-12-07T22:06:15.601448Z"
    }
   },
   "outputs": [
    {
     "name": "stdout",
     "output_type": "stream",
     "text": [
      "Position with the highest salary (after removing outliers): Software Engineer\n",
      "Location: Cupertino\n",
      "Yearly Brutto Salary: €250,000.00\n"
     ]
    }
   ],
   "source": [
    "# Clean the column names by stripping extra whitespace\n",
    "df.columns = df.columns.str.strip()\n",
    "\n",
    "# Convert the salary column to numeric by removing commas and handling errors\n",
    "df['Yearly brutto salary (without bonus and stocks) in EUR'] = df['Yearly brutto salary (without bonus and stocks) in EUR'].replace(',', '', regex=True).astype(float)\n",
    "\n",
    "# Group by Position and City, then calculate the average salary\n",
    "salary_by_position_location = df.groupby(['Position', 'City'])['Yearly brutto salary (without bonus and stocks) in EUR'].mean().reset_index()\n",
    "\n",
    "# Sort the results by average salary in descending order\n",
    "salary_by_position_location_sorted = salary_by_position_location.sort_values(\n",
    "    by='Yearly brutto salary (without bonus and stocks) in EUR', ascending=False\n",
    ")\n",
    "\n",
    "# Remove the outlier with an extremely high salary\n",
    "filtered_salary_by_position_location = salary_by_position_location_sorted[salary_by_position_location_sorted['Yearly brutto salary (without bonus and stocks) in EUR'] < 1e7]\n",
    "\n",
    "# Find the position with the highest salary after removing the outlier\n",
    "highest_salary_filtered_row = filtered_salary_by_position_location.iloc[0]\n",
    "\n",
    "# Extract relevant information\n",
    "highest_paid_position_filtered = highest_salary_filtered_row['Position']\n",
    "highest_paid_city_filtered = highest_salary_filtered_row['City']\n",
    "highest_paid_salary_filtered = highest_salary_filtered_row['Yearly brutto salary (without bonus and stocks) in EUR']\n",
    "\n",
    "# Display the results\n",
    "print(f\"Position with the highest salary (after removing outliers): {highest_paid_position_filtered}\")\n",
    "print(f\"Location: {highest_paid_city_filtered}\")\n",
    "print(f\"Yearly Brutto Salary: €{highest_paid_salary_filtered:,.2f}\")"
   ]
  },
  {
   "cell_type": "markdown",
   "id": "cc7308ba672c5a44",
   "metadata": {},
   "source": [
    "This is more reasonable result. Now I have another question, what about their salary growth? Will they receive more payment in next year?"
   ]
  },
  {
   "cell_type": "code",
   "execution_count": 11,
   "id": "53845270fdc87d18",
   "metadata": {
    "ExecuteTime": {
     "end_time": "2024-12-07T22:06:15.662937Z",
     "start_time": "2024-12-07T22:06:15.656554Z"
    }
   },
   "outputs": [
    {
     "name": "stdout",
     "output_type": "stream",
     "text": [
      "Top 10 Salary Growth Records:\n",
      "      Yearly brutto salary (without bonus and stocks) in EUR  \\\n",
      "896                                             45000.0        \n",
      "455                                             50000.0        \n",
      "1140                                            40000.0        \n",
      "574                                            200000.0        \n",
      "420                                             58000.0        \n",
      "751                                            135000.0        \n",
      "1075                                            40700.0        \n",
      "712                                             22000.0        \n",
      "35                                             150000.0        \n",
      "193                                            120000.0        \n",
      "\n",
      "      Annual brutto salary (without bonus and stocks) one year ago. Only answer if staying in the same country  \\\n",
      "896                                             12000.0                                                          \n",
      "455                                             18000.0                                                          \n",
      "1140                                            15000.0                                                          \n",
      "574                                             80000.0                                                          \n",
      "420                                             26000.0                                                          \n",
      "751                                             65000.0                                                          \n",
      "1075                                            20000.0                                                          \n",
      "712                                             11000.0                                                          \n",
      "35                                              81000.0                                                          \n",
      "193                                             65000.0                                                          \n",
      "\n",
      "      Salary Growth (%)  \n",
      "896          275.000000  \n",
      "455          177.777778  \n",
      "1140         166.666667  \n",
      "574          150.000000  \n",
      "420          123.076923  \n",
      "751          107.692308  \n",
      "1075         103.500000  \n",
      "712          100.000000  \n",
      "35            85.185185  \n",
      "193           84.615385  \n",
      "\n",
      "Average Salary Growth: 11.23%\n"
     ]
    }
   ],
   "source": [
    "# Prepare the DataFrame for salary growth analysis\n",
    "salary_growth_df = df[[\n",
    "    'Yearly brutto salary (without bonus and stocks) in EUR',\n",
    "    'Annual brutto salary (without bonus and stocks) one year ago. Only answer if staying in the same country'\n",
    "]].dropna()\n",
    "\n",
    "# Convert both salary columns to numeric by removing commas\n",
    "salary_growth_df['Yearly brutto salary (without bonus and stocks) in EUR'] = salary_growth_df['Yearly brutto salary (without bonus and stocks) in EUR'].replace(',', '', regex=True).astype(float)\n",
    "salary_growth_df['Annual brutto salary (without bonus and stocks) one year ago. Only answer if staying in the same country'] = salary_growth_df['Annual brutto salary (without bonus and stocks) one year ago. Only answer if staying in the same country'].replace(',', '', regex=True).astype(float)\n",
    "\n",
    "# Calculate salary growth percentage\n",
    "salary_growth_df['Salary Growth (%)'] = (\n",
    "    (salary_growth_df['Yearly brutto salary (without bonus and stocks) in EUR'] -\n",
    "     salary_growth_df['Annual brutto salary (without bonus and stocks) one year ago. Only answer if staying in the same country'])\n",
    "    / salary_growth_df['Annual brutto salary (without bonus and stocks) one year ago. Only answer if staying in the same country']\n",
    ") * 100\n",
    "\n",
    "# Filter out unrealistic growth values (e.g., below -100% or above 500%)\n",
    "filtered_salary_growth_df = salary_growth_df[\n",
    "    (salary_growth_df['Salary Growth (%)'] >= -100) & (salary_growth_df['Salary Growth (%)'] <= 500)\n",
    "]\n",
    "\n",
    "# Calculate the average salary growth\n",
    "average_growth = filtered_salary_growth_df['Salary Growth (%)'].mean()\n",
    "\n",
    "# Display the top 10 salary growth records\n",
    "top_salary_growth = filtered_salary_growth_df.sort_values(by='Salary Growth (%)', ascending=False).head(10)\n",
    "print(\"Top 10 Salary Growth Records:\")\n",
    "print(top_salary_growth)\n",
    "\n",
    "# Print the average salary growth\n",
    "print(f\"\\nAverage Salary Growth: {average_growth:.2f}%\")"
   ]
  },
  {
   "cell_type": "markdown",
   "id": "de0d6071573a24e2",
   "metadata": {},
   "source": [
    "Let's use a plot to have a clear view"
   ]
  },
  {
   "cell_type": "code",
   "execution_count": 7,
   "id": "d951ee6e60fa6240",
   "metadata": {
    "ExecuteTime": {
     "end_time": "2024-12-07T22:06:15.782638Z",
     "start_time": "2024-12-07T22:06:15.708621Z"
    },
    "execution": {
     "iopub.execute_input": "2024-12-07T22:11:29.565904Z",
     "iopub.status.busy": "2024-12-07T22:11:29.565383Z",
     "iopub.status.idle": "2024-12-07T22:11:29.660620Z",
     "shell.execute_reply": "2024-12-07T22:11:29.660341Z",
     "shell.execute_reply.started": "2024-12-07T22:11:29.565870Z"
    }
   },
   "outputs": [
    {
     "name": "stdout",
     "output_type": "stream",
     "text": [
      "Average Salary Growth: 11.23%\n"
     ]
    },
    {
     "data": {
      "image/png": "[encoded data removed]",
      "text/plain": [
       "<Figure size 1000x600 with 1 Axes>"
      ]
     },
     "metadata": {},
     "output_type": "display_data"
    }
   ],
   "source": [
    "# Prepare the DataFrame for salary growth analysis\n",
    "salary_growth_df = df[[\n",
    "    'Yearly brutto salary (without bonus and stocks) in EUR',\n",
    "    'Annual brutto salary (without bonus and stocks) one year ago. Only answer if staying in the same country'\n",
    "]].dropna()\n",
    "\n",
    "# Convert both salary columns to numeric by removing commas\n",
    "salary_growth_df['Yearly brutto salary (without bonus and stocks) in EUR'] = salary_growth_df['Yearly brutto salary (without bonus and stocks) in EUR'].replace(',', '', regex=True).astype(float)\n",
    "salary_growth_df['Annual brutto salary (without bonus and stocks) one year ago. Only answer if staying in the same country'] = salary_growth_df['Annual brutto salary (without bonus and stocks) one year ago. Only answer if staying in the same country'].replace(',', '', regex=True).astype(float)\n",
    "\n",
    "# Calculate salary growth percentage\n",
    "salary_growth_df['Salary Growth (%)'] = (\n",
    "    (salary_growth_df['Yearly brutto salary (without bonus and stocks) in EUR'] -\n",
    "     salary_growth_df['Annual brutto salary (without bonus and stocks) one year ago. Only answer if staying in the same country'])\n",
    "    / salary_growth_df['Annual brutto salary (without bonus and stocks) one year ago. Only answer if staying in the same country']\n",
    ") * 100\n",
    "\n",
    "# Filter out unrealistic growth values (e.g., below -100% or above 500%)\n",
    "filtered_salary_growth_df = salary_growth_df[\n",
    "    (salary_growth_df['Salary Growth (%)'] >= -100) & (salary_growth_df['Salary Growth (%)'] <= 500)\n",
    "]\n",
    "\n",
    "# Calculate the average salary growth\n",
    "average_growth = filtered_salary_growth_df['Salary Growth (%)'].mean()\n",
    "\n",
    "# Display the average salary growth\n",
    "print(f\"Average Salary Growth: {average_growth:.2f}%\")\n",
    "\n",
    "# Plot the distribution of salary growth\n",
    "plt.figure(figsize=(10, 6))\n",
    "plt.hist(filtered_salary_growth_df['Salary Growth (%)'], bins=50, color='coral', edgecolor='black', alpha=0.7)\n",
    "plt.title('Distribution of Salary Growth (%)')\n",
    "plt.xlabel('Salary Growth (%)')\n",
    "plt.ylabel('Number of Employees')\n",
    "plt.grid(axis='y', linestyle='--', alpha=0.7)\n",
    "plt.show()"
   ]
  },
  {
   "cell_type": "markdown",
   "id": "c6479ee46bd0b430",
   "metadata": {},
   "source": [
    "This is all of our analysis. Thank you!"
   ]
  }
 ],
 "metadata": {
  "kernelspec": {
   "display_name": "Python 3 (ipykernel)",
   "language": "python",
   "name": "python3"
  },
  "language_info": {
   "codemirror_mode": {
    "name": "ipython",
    "version": 3
   },
   "file_extension": ".py",
   "mimetype": "text/x-python",
   "name": "python",
   "nbconvert_exporter": "python",
   "pygments_lexer": "ipython3",
   "version": "3.11.9"
  }
 },
 "nbformat": 4,
 "nbformat_minor": 5
}
